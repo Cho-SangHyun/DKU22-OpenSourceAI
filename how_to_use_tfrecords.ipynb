{
  "nbformat": 4,
  "nbformat_minor": 0,
  "metadata": {
    "colab": {
      "provenance": []
    },
    "kernelspec": {
      "name": "python3",
      "display_name": "Python 3"
    },
    "language_info": {
      "name": "python"
    },
    "accelerator": "GPU",
    "gpuClass": "standard"
  },
  "cells": [
    {
      "cell_type": "markdown",
      "source": [
        "##1. 사전 준비 작업\n",
        "1. 코랩에 dataset폴더 만들고 tfrecords파일, labes파일 등을 미리 업로드\n",
        "2. 드라이브를 마운트함. 그럼 drive란 폴더가 생기며 자신의 Google Drive파일에 접근 가능하게 됨 \n",
        "![화면 캡처 2022-11-23 193624.png](data:image/png;base64,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)"
      ],
      "metadata": {
        "id": "VIeMx8SJDY4j"
      }
    },
    {
      "cell_type": "code",
      "source": [
        "import tensorflow as tf\n",
        "from tensorflow import keras\n",
        "import matplotlib.pyplot as plt\n",
        "import numpy as np\n",
        "import pandas as pd\n",
        "import random as rn\n",
        "import os\n",
        "from collections import Counter\n",
        "from IPython.display import display, Image"
      ],
      "metadata": {
        "id": "-Ey4g9PoF9tF",
        "colab": {
          "base_uri": "https://localhost:8080/"
        },
        "outputId": "ffba1525-f64c-445e-e4e4-6aea5d55a18e"
      },
      "execution_count": 110,
      "outputs": [
        {
          "output_type": "stream",
          "name": "stdout",
          "text": [
            "time: 1.3 ms (started: 2022-11-23 17:09:11 +00:00)\n"
          ]
        }
      ]
    },
    {
      "cell_type": "code",
      "source": [
        "import warnings\n",
        "import logging\n",
        "logging.getLogger('tensorflow').disabled = True\n",
        "warnings.filterwarnings(\"ignore\")\n",
        "os.environ['TF_CPP_MIN_LOG_LEVEL'] = '3'"
      ],
      "metadata": {
        "id": "CzWebYehPJHx",
        "colab": {
          "base_uri": "https://localhost:8080/"
        },
        "outputId": "1bec2aba-88ce-4b16-9af7-2e4d7efcebb4"
      },
      "execution_count": 111,
      "outputs": [
        {
          "output_type": "stream",
          "name": "stdout",
          "text": [
            "time: 1.1 ms (started: 2022-11-23 17:09:14 +00:00)\n"
          ]
        }
      ]
    },
    {
      "cell_type": "code",
      "source": [
        "!pip install ipython-autotime"
      ],
      "metadata": {
        "id": "1ysEHEyPKelx",
        "colab": {
          "base_uri": "https://localhost:8080/"
        },
        "outputId": "a7dd08c8-0c7a-43c4-dd63-099539baffba"
      },
      "execution_count": 112,
      "outputs": [
        {
          "output_type": "stream",
          "name": "stdout",
          "text": [
            "Looking in indexes: https://pypi.org/simple, https://us-python.pkg.dev/colab-wheels/public/simple/\n",
            "Requirement already satisfied: ipython-autotime in /usr/local/lib/python3.7/dist-packages (0.3.1)\n",
            "Requirement already satisfied: ipython in /usr/local/lib/python3.7/dist-packages (from ipython-autotime) (7.9.0)\n",
            "Requirement already satisfied: traitlets>=4.2 in /usr/local/lib/python3.7/dist-packages (from ipython->ipython-autotime) (5.1.1)\n",
            "Requirement already satisfied: pickleshare in /usr/local/lib/python3.7/dist-packages (from ipython->ipython-autotime) (0.7.5)\n",
            "Requirement already satisfied: backcall in /usr/local/lib/python3.7/dist-packages (from ipython->ipython-autotime) (0.2.0)\n",
            "Requirement already satisfied: pexpect in /usr/local/lib/python3.7/dist-packages (from ipython->ipython-autotime) (4.8.0)\n",
            "Requirement already satisfied: setuptools>=18.5 in /usr/local/lib/python3.7/dist-packages (from ipython->ipython-autotime) (57.4.0)\n",
            "Requirement already satisfied: prompt-toolkit<2.1.0,>=2.0.0 in /usr/local/lib/python3.7/dist-packages (from ipython->ipython-autotime) (2.0.10)\n",
            "Requirement already satisfied: decorator in /usr/local/lib/python3.7/dist-packages (from ipython->ipython-autotime) (4.4.2)\n",
            "Requirement already satisfied: pygments in /usr/local/lib/python3.7/dist-packages (from ipython->ipython-autotime) (2.6.1)\n",
            "Requirement already satisfied: jedi>=0.10 in /usr/local/lib/python3.7/dist-packages (from ipython->ipython-autotime) (0.18.2)\n",
            "Requirement already satisfied: parso<0.9.0,>=0.8.0 in /usr/local/lib/python3.7/dist-packages (from jedi>=0.10->ipython->ipython-autotime) (0.8.3)\n",
            "Requirement already satisfied: six>=1.9.0 in /usr/local/lib/python3.7/dist-packages (from prompt-toolkit<2.1.0,>=2.0.0->ipython->ipython-autotime) (1.15.0)\n",
            "Requirement already satisfied: wcwidth in /usr/local/lib/python3.7/dist-packages (from prompt-toolkit<2.1.0,>=2.0.0->ipython->ipython-autotime) (0.2.5)\n",
            "Requirement already satisfied: ptyprocess>=0.5 in /usr/local/lib/python3.7/dist-packages (from pexpect->ipython->ipython-autotime) (0.7.0)\n",
            "time: 2.9 s (started: 2022-11-23 17:09:16 +00:00)\n"
          ]
        }
      ]
    },
    {
      "cell_type": "code",
      "source": [
        "%load_ext autotime"
      ],
      "metadata": {
        "colab": {
          "base_uri": "https://localhost:8080/"
        },
        "id": "AgC9atfmPLlG",
        "outputId": "c094033b-598f-49de-916d-479e1e038414"
      },
      "execution_count": 113,
      "outputs": [
        {
          "output_type": "stream",
          "name": "stdout",
          "text": [
            "The autotime extension is already loaded. To reload it, use:\n",
            "  %reload_ext autotime\n",
            "time: 1.07 ms (started: 2022-11-23 17:09:23 +00:00)\n"
          ]
        }
      ]
    },
    {
      "cell_type": "code",
      "source": [
        "# Set seed for reproducibility.\n",
        "\n",
        "set_seed = 46\n",
        "np.random.seed(set_seed)\n",
        "rn.seed(set_seed)\n",
        "tf.random.set_seed(set_seed)"
      ],
      "metadata": {
        "colab": {
          "base_uri": "https://localhost:8080/"
        },
        "id": "DFqqTQ7oPN2e",
        "outputId": "8e881a7a-f977-48a3-8961-4c63f3bd54a4"
      },
      "execution_count": 114,
      "outputs": [
        {
          "output_type": "stream",
          "name": "stdout",
          "text": [
            "time: 156 ms (started: 2022-11-23 17:09:25 +00:00)\n"
          ]
        }
      ]
    },
    {
      "cell_type": "markdown",
      "source": [
        "## 2. 사용할 데이터셋의 라벨데이터를 로드 (2번 ~ 5번 안 해도 됨. 학습 성능 향상을 위해 하는 것일 뿐 tfrecord사용법과는 무관)"
      ],
      "metadata": {
        "id": "93ng0lkOGLpo"
      }
    },
    {
      "cell_type": "code",
      "source": [
        "# Load labels, check headers, check data shape.\n",
        "label_path = '/content/drive/MyDrive/OpenSourceAI_Team17/dataset/labels/label_6_basic_emo.csv'\n",
        "label_valid_path = '/content/drive/MyDrive/OpenSourceAI_Team17/dataset/labels/label_6_basic_emo_valid.csv'\n",
        "label_train_path = '/content/drive/MyDrive/OpenSourceAI_Team17/dataset/labels/label_6_basic_emo_train.csv'\n",
        "label_test_path = '/content/drive/MyDrive/OpenSourceAI_Team17/dataset/labels/label_6_basic_emo_test.csv'\n",
        "\n",
        "df_label = pd.read_csv(label_path)\n",
        "print(df_label.columns)\n",
        "print(df_label.shape)\n",
        "print()\n",
        "\n",
        "LABELS = list(df_label.columns[2:])\n",
        "# 라벨 종류\n",
        "print(\"LABELS=\", LABELS)\n",
        "# 라벨 갯수\n",
        "print(\"All class:\", len(LABELS))\n",
        "print()\n",
        "\n",
        "label_valid = pd.read_csv(label_valid_path)\n",
        "label_train = pd.read_csv(label_train_path)\n",
        "label_test = pd.read_csv(label_test_path)\n",
        "\n",
        "VALID_DATA_SIZE = label_valid.shape[0]\n",
        "TRAIN_DATA_SIZE = label_train.shape[0]\n",
        "TEST_DATA_SIZE = label_test.shape[0]\n",
        "\n",
        "print(\"TRAIN_DATA_SIZE:\", TRAIN_DATA_SIZE)\n",
        "print(\"VALID_DATA_SIZE:\", VALID_DATA_SIZE)\n",
        "print(\"TEST_DATA_SIZE:\", TEST_DATA_SIZE)"
      ],
      "metadata": {
        "colab": {
          "base_uri": "https://localhost:8080/"
        },
        "id": "mqAdyoyTGDyO",
        "outputId": "d28f4878-63d0-43d1-cc18-2b37f1f10e0f"
      },
      "execution_count": 115,
      "outputs": [
        {
          "output_type": "stream",
          "name": "stdout",
          "text": [
            "Index(['img_id', 'clip_id', 'angry', 'disgusted', 'surprised', 'fearful',\n",
            "       'happy', 'sad'],\n",
            "      dtype='object')\n",
            "(12813, 8)\n",
            "\n",
            "LABELS= ['angry', 'disgusted', 'surprised', 'fearful', 'happy', 'sad']\n",
            "All class: 6\n",
            "\n",
            "TRAIN_DATA_SIZE: 10249\n",
            "VALID_DATA_SIZE: 1282\n",
            "TEST_DATA_SIZE: 1282\n",
            "time: 67.2 ms (started: 2022-11-23 17:09:29 +00:00)\n"
          ]
        }
      ]
    },
    {
      "cell_type": "markdown",
      "source": [
        "## 3. 학습용 데이터(train data)의 각 이미지들에 정답라벨 붙인 딕셔너리 얻기"
      ],
      "metadata": {
        "id": "zTGgJZf9Ht7u"
      }
    },
    {
      "cell_type": "code",
      "source": [
        "dict_label_train = {}\n",
        "for idx, row in label_train.iterrows():\n",
        "    dict_label_train[row['img_id']] = list(row['angry':'sad'].values)\n",
        "len(dict_label_train)"
      ],
      "metadata": {
        "colab": {
          "base_uri": "https://localhost:8080/"
        },
        "id": "ptutIhxtHfQP",
        "outputId": "9319ba4a-8b93-4e7e-d477-bf332ad50e88"
      },
      "execution_count": 116,
      "outputs": [
        {
          "output_type": "execute_result",
          "data": {
            "text/plain": [
              "10249"
            ]
          },
          "metadata": {},
          "execution_count": 116
        },
        {
          "output_type": "stream",
          "name": "stdout",
          "text": [
            "time: 4.27 s (started: 2022-11-23 17:09:32 +00:00)\n"
          ]
        }
      ]
    },
    {
      "cell_type": "markdown",
      "source": [
        "## 4. 만들어둔 학습용 데이터의 라벨 딕셔너리에서 라벨값만 취하기"
      ],
      "metadata": {
        "id": "XSurUW1ZITxL"
      }
    },
    {
      "cell_type": "code",
      "source": [
        "y_train = list(dict_label_train.values())"
      ],
      "metadata": {
        "colab": {
          "base_uri": "https://localhost:8080/"
        },
        "id": "iT1TYF74Hna_",
        "outputId": "57ba51a0-36fa-45a2-fa6b-21bd6dac8a91"
      },
      "execution_count": 117,
      "outputs": [
        {
          "output_type": "stream",
          "name": "stdout",
          "text": [
            "time: 1.16 ms (started: 2022-11-23 17:09:39 +00:00)\n"
          ]
        }
      ]
    },
    {
      "cell_type": "code",
      "source": [
        "# 각 라벨들이 가리키는 숫자 추출\n",
        "\n",
        "# ex) [1, 0, 0, 0] -> 1 = 행복\n",
        "#     [0, 1, 0, 0] -> 2 = 빡침\n",
        "#     [0, 0, 1, 0] -> 3 = 기쁨..\n",
        "\n",
        "y_train_ints = [y.index(1) for y in y_train]\n",
        " "
      ],
      "metadata": {
        "colab": {
          "base_uri": "https://localhost:8080/"
        },
        "id": "KVpVs8qwIDHe",
        "outputId": "1d5b7c63-9472-4566-f452-14df819bbf58"
      },
      "execution_count": 118,
      "outputs": [
        {
          "output_type": "stream",
          "name": "stdout",
          "text": [
            "time: 3.74 ms (started: 2022-11-23 17:09:41 +00:00)\n"
          ]
        }
      ]
    },
    {
      "cell_type": "markdown",
      "source": [
        "## 5. 각 감정들(라벨)의 class weight 계산\n",
        "*class weight: 샘플 수가 상대적으로 적은 Class 쪽에 가중치를 부여하는 방식(클래스 불균형을 해결) - 이 때 클래스라는 건 우리 플젝에선 감정들(결과)을 말함* "
      ],
      "metadata": {
        "id": "Nnt9EORUKknm"
      }
    },
    {
      "cell_type": "code",
      "source": [
        "from sklearn.utils import class_weight\n",
        "\n",
        "class_weights = class_weight.compute_class_weight(class_weight='balanced',\n",
        "                                                  classes=np.unique(y_train_ints),\n",
        "                                                  y=y_train_ints)\n",
        "class_weight_dict = dict(enumerate(class_weights))\n",
        "class_weight_dict"
      ],
      "metadata": {
        "colab": {
          "base_uri": "https://localhost:8080/"
        },
        "id": "tzroGztHJtRo",
        "outputId": "fb5aab83-d33e-4c7a-c2cc-b6271b15ba3f"
      },
      "execution_count": 119,
      "outputs": [
        {
          "output_type": "execute_result",
          "data": {
            "text/plain": [
              "{0: 0.2815040650406504,\n",
              " 1: 18.3673835125448,\n",
              " 2: 0.7868109933978198,\n",
              " 3: 7.6257440476190474,\n",
              " 4: 11.46420581655481,\n",
              " 5: 1.106325561312608}"
            ]
          },
          "metadata": {},
          "execution_count": 119
        },
        {
          "output_type": "stream",
          "name": "stdout",
          "text": [
            "time: 10.8 ms (started: 2022-11-23 17:09:46 +00:00)\n"
          ]
        }
      ]
    },
    {
      "cell_type": "code",
      "source": [
        "n_samples = len(dict_label_train)\n",
        "n_classes = len(set(y_train_ints))\n",
        "\n",
        "multiplier = 3\n",
        "adjusted_cw = class_weights / n_classes * multiplier\n",
        "\n",
        "log_weights = n_samples / (n_classes * np.log(np.bincount(y_train_ints)))\n",
        "sum_weights = sum(log_weights)\n",
        "\n",
        "custom_class_weights = log_weights / sum_weights\n",
        "custom_class_weights\n",
        "\n",
        "custom_class_weights += adjusted_cw\n",
        "\n",
        "class_weight_dict = dict(enumerate(custom_class_weights))"
      ],
      "metadata": {
        "colab": {
          "base_uri": "https://localhost:8080/"
        },
        "id": "abmTbfkHKvD-",
        "outputId": "1ddb337b-95e5-4bf9-8b4e-bb780f30671b"
      },
      "execution_count": 120,
      "outputs": [
        {
          "output_type": "stream",
          "name": "stdout",
          "text": [
            "time: 2.38 ms (started: 2022-11-23 17:09:48 +00:00)\n"
          ]
        }
      ]
    },
    {
      "cell_type": "markdown",
      "source": [
        "## 6. train dataset 정의"
      ],
      "metadata": {
        "id": "ulyN8lqeLE4_"
      }
    },
    {
      "cell_type": "code",
      "source": [
        "BATCH_SIZE = 64\n",
        "\n",
        "train_data_path = '/content/drive/MyDrive/OpenSourceAI_Team17/dataset/tfrecords/6_basic_emo_train.tfrecords'\n",
        "\n",
        "def deserialize(serialized_dataset):\n",
        "\n",
        "    image_feature_description = {\n",
        "        'label': tf.io.FixedLenFeature([6], tf.int64),  \n",
        "        'image_raw': tf.io.FixedLenFeature([], tf.string),\n",
        "    }\n",
        "\n",
        "    target_record = tf.io.parse_single_example(serialized_dataset, image_feature_description)\n",
        "\n",
        "    image = target_record['image_raw']\n",
        "    image = tf.image.decode_jpeg(image, channels=3)\n",
        "    image = tf.cast(image, tf.float32)\n",
        "    \n",
        "    # image = tf.image.resize(image, [64, 64])\n",
        "\n",
        "    label = target_record['label']\n",
        "    #label = tf.cast(label, tf.int32)\n",
        "\n",
        "    return image, label\n",
        "\n",
        "# tfrecord 데이터셋 불러오기\n",
        "train_raw_image_dataset = tf.data.TFRecordDataset(train_data_path)\n",
        "\n",
        "# 불러온 데이터들 각각에 deserialize를 멕임\n",
        "train_parsed_image_dataset = train_raw_image_dataset.map(deserialize, num_parallel_calls=tf.data.experimental.AUTOTUNE)\n",
        "# 섞음\n",
        "train_parsed_image_dataset = train_parsed_image_dataset.shuffle(2048)\n",
        "# 배치\n",
        "train_parsed_image_dataset = train_parsed_image_dataset.batch(BATCH_SIZE)"
      ],
      "metadata": {
        "colab": {
          "base_uri": "https://localhost:8080/"
        },
        "id": "-yBp5_qhQ8hE",
        "outputId": "25ea43e6-3a97-4edf-8c25-ba984d34fec1"
      },
      "execution_count": 162,
      "outputs": [
        {
          "output_type": "stream",
          "name": "stdout",
          "text": [
            "time: 26.1 ms (started: 2022-11-23 17:40:26 +00:00)\n"
          ]
        }
      ]
    },
    {
      "cell_type": "code",
      "source": [
        "# 이미지랑 라벨 잘 가져와지나 테스트\n",
        "# batch_x = input(image), batch_y = label(감정)\n",
        "\n",
        "for batch_x, batch_y in train_parsed_image_dataset:\n",
        "    # 이미지 하나 = 64 * 64 * 3\n",
        "    # 라벨 길이 = 6 (6개로 분류하니까)\n",
        "    # BATCH_SIZE = 64 -> 64개씩 잘랐음\n",
        "    # 그러므로 batch_x.shape = (64, 64, 64, 3), batch_y.shape = (64, 6)\n",
        "    print(batch_x.shape, batch_y.shape)\n",
        "\n",
        "    # 첫 번째 사진이 어떤 감정에 속하는지(0 ~ 5) -> LABELS 리스트에서 인덱싱하면 감정이름을 가져올 수 있음\n",
        "    # 다만 6_basic_emo_train.tfrecords에 있는 사진들은 angry비율이 압도적으로 높음(5번에서 감정들의 class weight계산 참조)\n",
        "    target_class = np.argmax(batch_y[0].numpy())\n",
        "    \n",
        "    plt.figure()\n",
        "    \n",
        "    plt.imshow(batch_x[0].numpy().astype('uint8'))\n",
        "    plt.title('{}'.format(LABELS[target_class]))\n",
        "    plt.show()\n",
        "\n",
        "    break"
      ],
      "metadata": {
        "colab": {
          "base_uri": "https://localhost:8080/",
          "height": 318
        },
        "id": "4XlOht4RwY4P",
        "outputId": "f0917cd9-e718-4a9c-f916-1176e1685187"
      },
      "execution_count": 173,
      "outputs": [
        {
          "output_type": "stream",
          "name": "stdout",
          "text": [
            "(64, 64, 64, 3) (64, 6)\n"
          ]
        },
        {
          "output_type": "display_data",
          "data": {
            "text/plain": [
              "<Figure size 432x288 with 1 Axes>"
            ],
            "image/png": "[encoded data removed]"
          },
          "metadata": {
            "needs_background": "light"
          }
        },
        {
          "output_type": "stream",
          "name": "stdout",
          "text": [
            "time: 368 ms (started: 2022-11-23 17:41:22 +00:00)\n"
          ]
        }
      ]
    },
    {
      "cell_type": "markdown",
      "source": [
        "## 7. valid dataset 정의"
      ],
      "metadata": {
        "id": "pTh-j46bOeuI"
      }
    },
    {
      "cell_type": "code",
      "source": [
        "valid_data_path = '/content/drive/MyDrive/OpenSourceAI_Team17/dataset/tfrecords/6_basic_emo_valid.tfrecords'\n",
        "\n",
        "valid_raw_image_dataset = tf.data.TFRecordDataset(valid_data_path)\n",
        "\n",
        "valid_raw_image_dataset = valid_raw_image_dataset.map(deserialize, num_parallel_calls=tf.data.experimental.AUTOTUNE)\n",
        "valid_raw_image_dataset = valid_raw_image_dataset.batch(BATCH_SIZE)"
      ],
      "metadata": {
        "colab": {
          "base_uri": "https://localhost:8080/"
        },
        "id": "vg6HqDbqhB5U",
        "outputId": "5c4d3f44-7b9b-4b0b-97bd-56c997303579"
      },
      "execution_count": 174,
      "outputs": [
        {
          "output_type": "stream",
          "name": "stdout",
          "text": [
            "time: 24.3 ms (started: 2022-11-23 17:41:29 +00:00)\n"
          ]
        }
      ]
    },
    {
      "cell_type": "markdown",
      "source": [
        "## 8. 데이터 사용해보기 - CNN 학습시켜보기"
      ],
      "metadata": {
        "id": "xOQTTAL1uYQf"
      }
    },
    {
      "cell_type": "code",
      "source": [
        "initializer = keras.initializers.GlorotUniform(seed=set_seed)\n",
        "activation =  keras.activations.softmax\n",
        "lr_schedule = keras.optimizers.schedules.ExponentialDecay(\n",
        "            initial_learning_rate=1e-5,\n",
        "            decay_steps=TRAIN_DATA_SIZE // BATCH_SIZE * 10,\n",
        "            decay_rate=0.95)\n",
        "\n",
        "number_of_classes = 6\n",
        "        \n",
        "inputs = keras.Input(shape=(64, 64, 3))\n",
        "conv1 = keras.layers.Conv2D(128,(3, 3), padding='same', activation='relu')(inputs)\n",
        "do1 = keras.layers.Dropout(0.5, seed=set_seed)(conv1)         \n",
        "conv2 = keras.layers.Conv2D(64,(3, 3), padding='same', activation='relu')(do1)\n",
        "do2 = keras.layers.Dropout(0.5, seed=set_seed)(conv2)         \n",
        "conv3 = keras.layers.Conv2D(32,(3, 3), padding='same', activation='relu')(do2)\n",
        "do3 = keras.layers.Dropout(0.5, seed=set_seed)(conv3)       \n",
        "flatten = keras.layers.Flatten()(do3)    \n",
        "outputs = keras.layers.Dense(number_of_classes,\n",
        "                        kernel_initializer=initializer,\n",
        "                        activation=activation)(flatten) \n",
        "clf = keras.Model(inputs, outputs)\n",
        "        \n",
        "clf.summary()"
      ],
      "metadata": {
        "colab": {
          "base_uri": "https://localhost:8080/"
        },
        "id": "D119rUVZr83m",
        "outputId": "3043fd64-e88c-4c78-965a-88b988b0af5f"
      },
      "execution_count": 175,
      "outputs": [
        {
          "output_type": "stream",
          "name": "stdout",
          "text": [
            "Model: \"model_11\"\n",
            "_________________________________________________________________\n",
            " Layer (type)                Output Shape              Param #   \n",
            "=================================================================\n",
            " input_12 (InputLayer)       [(None, 64, 64, 3)]       0         \n",
            "                                                                 \n",
            " conv2d_38 (Conv2D)          (None, 64, 64, 128)       3584      \n",
            "                                                                 \n",
            " dropout_21 (Dropout)        (None, 64, 64, 128)       0         \n",
            "                                                                 \n",
            " conv2d_39 (Conv2D)          (None, 64, 64, 64)        73792     \n",
            "                                                                 \n",
            " dropout_22 (Dropout)        (None, 64, 64, 64)        0         \n",
            "                                                                 \n",
            " conv2d_40 (Conv2D)          (None, 64, 64, 32)        18464     \n",
            "                                                                 \n",
            " dropout_23 (Dropout)        (None, 64, 64, 32)        0         \n",
            "                                                                 \n",
            " flatten_8 (Flatten)         (None, 131072)            0         \n",
            "                                                                 \n",
            " dense_12 (Dense)            (None, 6)                 786438    \n",
            "                                                                 \n",
            "=================================================================\n",
            "Total params: 882,278\n",
            "Trainable params: 882,278\n",
            "Non-trainable params: 0\n",
            "_________________________________________________________________\n",
            "time: 113 ms (started: 2022-11-23 17:41:31 +00:00)\n"
          ]
        }
      ]
    },
    {
      "cell_type": "code",
      "source": [
        "es_callback = tf.keras.callbacks.EarlyStopping(monitor='val_loss', patience=10,\n",
        "                                                       restore_best_weights=True)\n",
        "        \n",
        "clf.compile(optimizer=keras.optimizers.Adam(learning_rate=lr_schedule),\n",
        "        loss=keras.losses.CategoricalCrossentropy(),\n",
        "        metrics=['accuracy'])\n",
        "        \n",
        "history = clf.fit(train_parsed_image_dataset, steps_per_epoch=TRAIN_DATA_SIZE // BATCH_SIZE,\n",
        "                validation_data=valid_raw_image_dataset,\n",
        "                epochs=100,\n",
        "                class_weight=class_weight_dict,\n",
        "                callbacks=[es_callback]) "
      ],
      "metadata": {
        "colab": {
          "base_uri": "https://localhost:8080/"
        },
        "id": "kuFkXVSyuPzl",
        "outputId": "5e5ca8ef-c7dc-4f91-e94c-613508cd6c3a"
      },
      "execution_count": 176,
      "outputs": [
        {
          "output_type": "stream",
          "name": "stdout",
          "text": [
            "Epoch 1/100\n",
            "160/160 [==============================] - 11s 65ms/step - loss: 17.7616 - accuracy: 0.2316 - val_loss: 6.9096 - val_accuracy: 0.0367\n",
            "Epoch 2/100\n",
            "160/160 [==============================] - 1s 4ms/step - loss: 23.9956 - accuracy: 0.4444 - val_loss: 6.7275 - val_accuracy: 0.0398\n",
            "time: 21.4 s (started: 2022-11-23 17:41:40 +00:00)\n"
          ]
        }
      ]
    },
    {
      "cell_type": "code",
      "source": [
        "# 그래프로\n",
        "\n",
        "plt.plot(history.history['accuracy'])\n",
        "plt.plot(history.history['val_accuracy'])\n",
        "plt.title('model accuracy')\n",
        "plt.ylabel('accuracy')\n",
        "plt.xlabel('epoch')\n",
        "plt.legend(['train', 'test'], loc='upper left')\n",
        "plt.show()"
      ],
      "metadata": {
        "colab": {
          "base_uri": "https://localhost:8080/",
          "height": 313
        },
        "id": "p2N7D3G9QG7g",
        "outputId": "573e1e4e-cff2-48ea-a26b-dd55a90c01c9"
      },
      "execution_count": 177,
      "outputs": [
        {
          "output_type": "display_data",
          "data": {
            "text/plain": [
              "<Figure size 432x288 with 1 Axes>"
            ],
            "image/png": "[encoded data removed]"
          },
          "metadata": {
            "needs_background": "light"
          }
        },
        {
          "output_type": "stream",
          "name": "stdout",
          "text": [
            "time: 138 ms (started: 2022-11-23 17:42:02 +00:00)\n"
          ]
        }
      ]
    },
    {
      "cell_type": "markdown",
      "source": [],
      "metadata": {
        "id": "s1rJPwNKUGq5"
      }
    }
  ]
}