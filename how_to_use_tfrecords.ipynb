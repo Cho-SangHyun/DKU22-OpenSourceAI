{
  "nbformat": 4,
  "nbformat_minor": 0,
  "metadata": {
    "colab": {
      "provenance": []
    },
    "kernelspec": {
      "name": "python3",
      "display_name": "Python 3"
    },
    "language_info": {
      "name": "python"
    },
    "accelerator": "GPU",
    "gpuClass": "standard"
  },
  "cells": [
    {
      "cell_type": "markdown",
      "source": [
        "##1. 사전 준비 작업\n",
        "1. 코랩에 dataset폴더 만들고 tfrecords파일, labes파일 등을 미리 업로드\n",
        "2. 드라이브를 마운트함. 그럼 drive란 폴더가 생기며 자신의 Google Drive파일에 접근 가능하게 됨 \n",
        "![화면 캡처 2022-11-23 193624.png](data:image/png;base64,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)"
      ],
      "metadata": {
        "id": "VIeMx8SJDY4j"
      }
    },
    {
      "cell_type": "code",
      "source": [
        "import tensorflow as tf\n",
        "from tensorflow import keras\n",
        "import matplotlib.pyplot as plt\n",
        "import numpy as np\n",
        "import pandas as pd\n",
        "import random as rn\n",
        "import os\n",
        "from collections import Counter\n",
        "from IPython.display import display, Image"
      ],
      "metadata": {
        "id": "-Ey4g9PoF9tF",
        "colab": {
          "base_uri": "https://localhost:8080/"
        },
        "outputId": "13290e33-64fd-49a8-b349-33789511aa84"
      },
      "execution_count": 178,
      "outputs": [
        {
          "output_type": "stream",
          "name": "stdout",
          "text": [
            "time: 1.7 ms (started: 2022-11-23 17:54:59 +00:00)\n"
          ]
        }
      ]
    },
    {
      "cell_type": "code",
      "source": [
        "import warnings\n",
        "import logging\n",
        "logging.getLogger('tensorflow').disabled = True\n",
        "warnings.filterwarnings(\"ignore\")\n",
        "os.environ['TF_CPP_MIN_LOG_LEVEL'] = '3'"
      ],
      "metadata": {
        "id": "CzWebYehPJHx",
        "colab": {
          "base_uri": "https://localhost:8080/"
        },
        "outputId": "082aefbf-caa6-4079-8058-0e0e3f8dfb51"
      },
      "execution_count": 179,
      "outputs": [
        {
          "output_type": "stream",
          "name": "stdout",
          "text": [
            "time: 1.18 ms (started: 2022-11-23 17:55:03 +00:00)\n"
          ]
        }
      ]
    },
    {
      "cell_type": "code",
      "source": [
        "!pip install ipython-autotime"
      ],
      "metadata": {
        "id": "1ysEHEyPKelx",
        "colab": {
          "base_uri": "https://localhost:8080/"
        },
        "outputId": "2eb42306-2165-490f-8733-a63bcf2adebd"
      },
      "execution_count": 180,
      "outputs": [
        {
          "output_type": "stream",
          "name": "stdout",
          "text": [
            "Looking in indexes: https://pypi.org/simple, https://us-python.pkg.dev/colab-wheels/public/simple/\n",
            "Requirement already satisfied: ipython-autotime in /usr/local/lib/python3.7/dist-packages (0.3.1)\n",
            "Requirement already satisfied: ipython in /usr/local/lib/python3.7/dist-packages (from ipython-autotime) (7.9.0)\n",
            "Requirement already satisfied: prompt-toolkit<2.1.0,>=2.0.0 in /usr/local/lib/python3.7/dist-packages (from ipython->ipython-autotime) (2.0.10)\n",
            "Requirement already satisfied: setuptools>=18.5 in /usr/local/lib/python3.7/dist-packages (from ipython->ipython-autotime) (57.4.0)\n",
            "Requirement already satisfied: pickleshare in /usr/local/lib/python3.7/dist-packages (from ipython->ipython-autotime) (0.7.5)\n",
            "Requirement already satisfied: decorator in /usr/local/lib/python3.7/dist-packages (from ipython->ipython-autotime) (4.4.2)\n",
            "Requirement already satisfied: jedi>=0.10 in /usr/local/lib/python3.7/dist-packages (from ipython->ipython-autotime) (0.18.2)\n",
            "Requirement already satisfied: pexpect in /usr/local/lib/python3.7/dist-packages (from ipython->ipython-autotime) (4.8.0)\n",
            "Requirement already satisfied: pygments in /usr/local/lib/python3.7/dist-packages (from ipython->ipython-autotime) (2.6.1)\n",
            "Requirement already satisfied: backcall in /usr/local/lib/python3.7/dist-packages (from ipython->ipython-autotime) (0.2.0)\n",
            "Requirement already satisfied: traitlets>=4.2 in /usr/local/lib/python3.7/dist-packages (from ipython->ipython-autotime) (5.1.1)\n",
            "Requirement already satisfied: parso<0.9.0,>=0.8.0 in /usr/local/lib/python3.7/dist-packages (from jedi>=0.10->ipython->ipython-autotime) (0.8.3)\n",
            "Requirement already satisfied: wcwidth in /usr/local/lib/python3.7/dist-packages (from prompt-toolkit<2.1.0,>=2.0.0->ipython->ipython-autotime) (0.2.5)\n",
            "Requirement already satisfied: six>=1.9.0 in /usr/local/lib/python3.7/dist-packages (from prompt-toolkit<2.1.0,>=2.0.0->ipython->ipython-autotime) (1.15.0)\n",
            "Requirement already satisfied: ptyprocess>=0.5 in /usr/local/lib/python3.7/dist-packages (from pexpect->ipython->ipython-autotime) (0.7.0)\n",
            "time: 2.79 s (started: 2022-11-23 17:55:05 +00:00)\n"
          ]
        }
      ]
    },
    {
      "cell_type": "code",
      "source": [
        "%load_ext autotime"
      ],
      "metadata": {
        "colab": {
          "base_uri": "https://localhost:8080/"
        },
        "id": "AgC9atfmPLlG",
        "outputId": "1513ecf0-5ca3-4c42-efdc-506012be2d85"
      },
      "execution_count": 181,
      "outputs": [
        {
          "output_type": "stream",
          "name": "stdout",
          "text": [
            "The autotime extension is already loaded. To reload it, use:\n",
            "  %reload_ext autotime\n",
            "time: 2.85 ms (started: 2022-11-23 17:55:11 +00:00)\n"
          ]
        }
      ]
    },
    {
      "cell_type": "code",
      "source": [
        "# Set seed for reproducibility.\n",
        "\n",
        "set_seed = 46\n",
        "np.random.seed(set_seed)\n",
        "rn.seed(set_seed)\n",
        "tf.random.set_seed(set_seed)"
      ],
      "metadata": {
        "colab": {
          "base_uri": "https://localhost:8080/"
        },
        "id": "DFqqTQ7oPN2e",
        "outputId": "66dfa1bd-792d-4679-99c0-8d9cdaa9d5ce"
      },
      "execution_count": 182,
      "outputs": [
        {
          "output_type": "stream",
          "name": "stdout",
          "text": [
            "time: 20.7 ms (started: 2022-11-23 17:55:14 +00:00)\n"
          ]
        }
      ]
    },
    {
      "cell_type": "markdown",
      "source": [
        "## 2. 사용할 데이터셋의 라벨데이터를 로드 (2번 ~ 5번 안 해도 됨. 학습 성능 향상을 위해 하는 것일 뿐 tfrecord사용법과는 무관)"
      ],
      "metadata": {
        "id": "93ng0lkOGLpo"
      }
    },
    {
      "cell_type": "code",
      "source": [
        "# Load labels, check headers, check data shape.\n",
        "label_path = '/content/drive/MyDrive/OpenSourceAI_Team17/dataset/labels/label_6_basic_emo.csv'\n",
        "label_valid_path = '/content/drive/MyDrive/OpenSourceAI_Team17/dataset/labels/label_6_basic_emo_valid.csv'\n",
        "label_train_path = '/content/drive/MyDrive/OpenSourceAI_Team17/dataset/labels/label_6_basic_emo_train.csv'\n",
        "label_test_path = '/content/drive/MyDrive/OpenSourceAI_Team17/dataset/labels/label_6_basic_emo_test.csv'\n",
        "\n",
        "df_label = pd.read_csv(label_path)\n",
        "print(df_label.columns)\n",
        "print(df_label.shape)\n",
        "print()\n",
        "\n",
        "LABELS = list(df_label.columns[2:])\n",
        "# 라벨 종류\n",
        "print(\"LABELS=\", LABELS)\n",
        "# 라벨 갯수\n",
        "print(\"All class:\", len(LABELS))\n",
        "print()\n",
        "\n",
        "label_valid = pd.read_csv(label_valid_path)\n",
        "label_train = pd.read_csv(label_train_path)\n",
        "label_test = pd.read_csv(label_test_path)\n",
        "\n",
        "VALID_DATA_SIZE = label_valid.shape[0]\n",
        "TRAIN_DATA_SIZE = label_train.shape[0]\n",
        "TEST_DATA_SIZE = label_test.shape[0]\n",
        "\n",
        "print(\"TRAIN_DATA_SIZE:\", TRAIN_DATA_SIZE)\n",
        "print(\"VALID_DATA_SIZE:\", VALID_DATA_SIZE)\n",
        "print(\"TEST_DATA_SIZE:\", TEST_DATA_SIZE)"
      ],
      "metadata": {
        "colab": {
          "base_uri": "https://localhost:8080/"
        },
        "id": "mqAdyoyTGDyO",
        "outputId": "f6151ecd-0046-45bd-afba-b71457b64843"
      },
      "execution_count": 183,
      "outputs": [
        {
          "output_type": "stream",
          "name": "stdout",
          "text": [
            "Index(['img_id', 'clip_id', 'angry', 'disgusted', 'surprised', 'fearful',\n",
            "       'happy', 'sad'],\n",
            "      dtype='object')\n",
            "(12813, 8)\n",
            "\n",
            "LABELS= ['angry', 'disgusted', 'surprised', 'fearful', 'happy', 'sad']\n",
            "All class: 6\n",
            "\n",
            "TRAIN_DATA_SIZE: 10249\n",
            "VALID_DATA_SIZE: 1282\n",
            "TEST_DATA_SIZE: 1282\n",
            "time: 85.9 ms (started: 2022-11-23 17:55:16 +00:00)\n"
          ]
        }
      ]
    },
    {
      "cell_type": "markdown",
      "source": [
        "## 3. 학습용 데이터(train data)의 각 이미지들에 정답라벨 붙인 딕셔너리 얻기"
      ],
      "metadata": {
        "id": "zTGgJZf9Ht7u"
      }
    },
    {
      "cell_type": "code",
      "source": [
        "dict_label_train = {}\n",
        "for idx, row in label_train.iterrows():\n",
        "    dict_label_train[row['img_id']] = list(row['angry':'sad'].values)\n",
        "len(dict_label_train)"
      ],
      "metadata": {
        "colab": {
          "base_uri": "https://localhost:8080/"
        },
        "id": "ptutIhxtHfQP",
        "outputId": "af675d6e-fabe-494a-ae57-591d232686f3"
      },
      "execution_count": 184,
      "outputs": [
        {
          "output_type": "execute_result",
          "data": {
            "text/plain": [
              "10249"
            ]
          },
          "metadata": {},
          "execution_count": 184
        },
        {
          "output_type": "stream",
          "name": "stdout",
          "text": [
            "time: 4.31 s (started: 2022-11-23 17:55:19 +00:00)\n"
          ]
        }
      ]
    },
    {
      "cell_type": "markdown",
      "source": [
        "## 4. 만들어둔 학습용 데이터의 라벨 딕셔너리에서 라벨값만 취하기"
      ],
      "metadata": {
        "id": "XSurUW1ZITxL"
      }
    },
    {
      "cell_type": "code",
      "source": [
        "y_train = list(dict_label_train.values())"
      ],
      "metadata": {
        "colab": {
          "base_uri": "https://localhost:8080/"
        },
        "id": "iT1TYF74Hna_",
        "outputId": "3ab2033e-6292-4412-ac97-41d69904b1a3"
      },
      "execution_count": 185,
      "outputs": [
        {
          "output_type": "stream",
          "name": "stdout",
          "text": [
            "time: 1.25 ms (started: 2022-11-23 17:55:27 +00:00)\n"
          ]
        }
      ]
    },
    {
      "cell_type": "code",
      "source": [
        "# 각 라벨들이 가리키는 숫자 추출\n",
        "\n",
        "# ex) [1, 0, 0, 0] -> 1 = 행복\n",
        "#     [0, 1, 0, 0] -> 2 = 빡침\n",
        "#     [0, 0, 1, 0] -> 3 = 기쁨..\n",
        "\n",
        "y_train_ints = [y.index(1) for y in y_train]\n",
        " "
      ],
      "metadata": {
        "colab": {
          "base_uri": "https://localhost:8080/"
        },
        "id": "KVpVs8qwIDHe",
        "outputId": "445e0c3b-3c27-4a48-c1ec-64258689a721"
      },
      "execution_count": 186,
      "outputs": [
        {
          "output_type": "stream",
          "name": "stdout",
          "text": [
            "time: 14.1 ms (started: 2022-11-23 17:55:29 +00:00)\n"
          ]
        }
      ]
    },
    {
      "cell_type": "markdown",
      "source": [
        "## 5. 각 감정들(라벨)의 class weight 계산\n",
        "*class weight: 샘플 수가 상대적으로 적은 Class 쪽에 가중치를 부여하는 방식(클래스 불균형을 해결) - 이 때 클래스라는 건 우리 플젝에선 감정들(결과)을 말함* "
      ],
      "metadata": {
        "id": "Nnt9EORUKknm"
      }
    },
    {
      "cell_type": "code",
      "source": [
        "from sklearn.utils import class_weight\n",
        "\n",
        "class_weights = class_weight.compute_class_weight(class_weight='balanced',\n",
        "                                                  classes=np.unique(y_train_ints),\n",
        "                                                  y=y_train_ints)\n",
        "class_weight_dict = dict(enumerate(class_weights))\n",
        "class_weight_dict"
      ],
      "metadata": {
        "colab": {
          "base_uri": "https://localhost:8080/"
        },
        "id": "tzroGztHJtRo",
        "outputId": "83b67d8d-124e-44ab-cccd-45958bb32355"
      },
      "execution_count": 187,
      "outputs": [
        {
          "output_type": "execute_result",
          "data": {
            "text/plain": [
              "{0: 0.2815040650406504,\n",
              " 1: 18.3673835125448,\n",
              " 2: 0.7868109933978198,\n",
              " 3: 7.6257440476190474,\n",
              " 4: 11.46420581655481,\n",
              " 5: 1.106325561312608}"
            ]
          },
          "metadata": {},
          "execution_count": 187
        },
        {
          "output_type": "stream",
          "name": "stdout",
          "text": [
            "time: 26.1 ms (started: 2022-11-23 17:55:31 +00:00)\n"
          ]
        }
      ]
    },
    {
      "cell_type": "code",
      "source": [
        "n_samples = len(dict_label_train)\n",
        "n_classes = len(set(y_train_ints))\n",
        "\n",
        "multiplier = 3\n",
        "adjusted_cw = class_weights / n_classes * multiplier\n",
        "\n",
        "log_weights = n_samples / (n_classes * np.log(np.bincount(y_train_ints)))\n",
        "sum_weights = sum(log_weights)\n",
        "\n",
        "custom_class_weights = log_weights / sum_weights\n",
        "custom_class_weights\n",
        "\n",
        "custom_class_weights += adjusted_cw\n",
        "\n",
        "class_weight_dict = dict(enumerate(custom_class_weights))"
      ],
      "metadata": {
        "colab": {
          "base_uri": "https://localhost:8080/"
        },
        "id": "abmTbfkHKvD-",
        "outputId": "5ed7d2f2-8b82-4a93-936e-7ede9b4a7074"
      },
      "execution_count": 188,
      "outputs": [
        {
          "output_type": "stream",
          "name": "stdout",
          "text": [
            "time: 3.32 ms (started: 2022-11-23 17:55:35 +00:00)\n"
          ]
        }
      ]
    },
    {
      "cell_type": "markdown",
      "source": [
        "## 6. train dataset 정의"
      ],
      "metadata": {
        "id": "ulyN8lqeLE4_"
      }
    },
    {
      "cell_type": "code",
      "source": [
        "BATCH_SIZE = 64\n",
        "\n",
        "train_data_path = '/content/drive/MyDrive/OpenSourceAI_Team17/dataset/tfrecords/6_basic_emo_train.tfrecords'\n",
        "\n",
        "def deserialize(serialized_dataset):\n",
        "\n",
        "    image_feature_description = {\n",
        "        'label': tf.io.FixedLenFeature([6], tf.int64),  \n",
        "        'image_raw': tf.io.FixedLenFeature([], tf.string),\n",
        "    }\n",
        "\n",
        "    target_record = tf.io.parse_single_example(serialized_dataset, image_feature_description)\n",
        "\n",
        "    image = target_record['image_raw']\n",
        "    image = tf.image.decode_jpeg(image, channels=3)\n",
        "    image = tf.cast(image, tf.float32)\n",
        "    \n",
        "    # image = tf.image.resize(image, [64, 64])\n",
        "\n",
        "    label = target_record['label']\n",
        "    #label = tf.cast(label, tf.int32)\n",
        "\n",
        "    return image, label\n",
        "\n",
        "# tfrecord 데이터셋 불러오기\n",
        "train_raw_image_dataset = tf.data.TFRecordDataset(train_data_path)\n",
        "\n",
        "# 불러온 데이터들 각각에 deserialize를 멕임\n",
        "train_parsed_image_dataset = train_raw_image_dataset.map(deserialize, num_parallel_calls=tf.data.experimental.AUTOTUNE)\n",
        "# 섞음\n",
        "train_parsed_image_dataset = train_parsed_image_dataset.shuffle(2048)\n",
        "# 배치\n",
        "train_parsed_image_dataset = train_parsed_image_dataset.batch(BATCH_SIZE)\n",
        "# 학습을 빠르게 해주는..뭐 좋은 거라고 함\n",
        "# train_parsed_image_dataset = train_parsed_image_dataset.prefetch(buffer_size=AUTOTUNE)\n",
        "# 학습용 데이터는 반복사용 설정을 해줘야 함. 아니면 한 번만 학습하고 종료됨,,--\n",
        "train_parsed_image_dataset = train_parsed_image_dataset.repeat()"
      ],
      "metadata": {
        "colab": {
          "base_uri": "https://localhost:8080/"
        },
        "id": "-yBp5_qhQ8hE",
        "outputId": "ebb4b82a-03e7-4e7f-be56-5ddd6def645b"
      },
      "execution_count": 189,
      "outputs": [
        {
          "output_type": "stream",
          "name": "stdout",
          "text": [
            "time: 27.9 ms (started: 2022-11-23 17:57:08 +00:00)\n"
          ]
        }
      ]
    },
    {
      "cell_type": "code",
      "source": [
        "# 이미지랑 라벨 잘 가져와지나 테스트\n",
        "# batch_x = input(image), batch_y = label(감정)\n",
        "\n",
        "for batch_x, batch_y in train_parsed_image_dataset:\n",
        "    # 이미지 하나 = 64 * 64 * 3\n",
        "    # 라벨 길이 = 6 (6개로 분류하니까)\n",
        "    # BATCH_SIZE = 64 -> 64개씩 잘랐음\n",
        "    # 그러므로 batch_x.shape = (64, 64, 64, 3), batch_y.shape = (64, 6)\n",
        "    print(batch_x.shape, batch_y.shape)\n",
        "\n",
        "    # 첫 번째 사진이 어떤 감정에 속하는지(0 ~ 5) -> LABELS 리스트에서 인덱싱하면 감정이름을 가져올 수 있음\n",
        "    # 다만 6_basic_emo_train.tfrecords에 있는 사진들은 angry비율이 압도적으로 높음(5번에서 감정들의 class weight계산 참조)\n",
        "    target_class = np.argmax(batch_y[0].numpy())\n",
        "    \n",
        "    plt.figure()\n",
        "    \n",
        "    plt.imshow(batch_x[0].numpy().astype('uint8'))\n",
        "    plt.title('{}'.format(LABELS[target_class]))\n",
        "    plt.show()\n",
        "\n",
        "    break"
      ],
      "metadata": {
        "colab": {
          "base_uri": "https://localhost:8080/",
          "height": 318
        },
        "id": "4XlOht4RwY4P",
        "outputId": "32541ca7-b8d4-4234-bb0c-6c801449f7f0"
      },
      "execution_count": 197,
      "outputs": [
        {
          "output_type": "stream",
          "name": "stdout",
          "text": [
            "(64, 64, 64, 3) (64, 6)\n"
          ]
        },
        {
          "output_type": "display_data",
          "data": {
            "text/plain": [
              "<Figure size 432x288 with 1 Axes>"
            ],
            "image/png": "[encoded data removed]"
          },
          "metadata": {
            "needs_background": "light"
          }
        },
        {
          "output_type": "stream",
          "name": "stdout",
          "text": [
            "time: 631 ms (started: 2022-11-23 17:57:39 +00:00)\n"
          ]
        }
      ]
    },
    {
      "cell_type": "markdown",
      "source": [
        "## 7. valid dataset 정의"
      ],
      "metadata": {
        "id": "pTh-j46bOeuI"
      }
    },
    {
      "cell_type": "code",
      "source": [
        "valid_data_path = '/content/drive/MyDrive/OpenSourceAI_Team17/dataset/tfrecords/6_basic_emo_valid.tfrecords'\n",
        "\n",
        "valid_raw_image_dataset = tf.data.TFRecordDataset(valid_data_path)\n",
        "\n",
        "valid_raw_image_dataset = valid_raw_image_dataset.map(deserialize, num_parallel_calls=tf.data.experimental.AUTOTUNE)\n",
        "valid_raw_image_dataset = valid_raw_image_dataset.batch(BATCH_SIZE)"
      ],
      "metadata": {
        "colab": {
          "base_uri": "https://localhost:8080/"
        },
        "id": "vg6HqDbqhB5U",
        "outputId": "ec121af5-0696-4679-b5f0-bc44d6b897ee"
      },
      "execution_count": 198,
      "outputs": [
        {
          "output_type": "stream",
          "name": "stdout",
          "text": [
            "time: 21.9 ms (started: 2022-11-23 17:57:44 +00:00)\n"
          ]
        }
      ]
    },
    {
      "cell_type": "markdown",
      "source": [
        "## 8. 데이터 사용해보기 - CNN 학습시켜보기"
      ],
      "metadata": {
        "id": "xOQTTAL1uYQf"
      }
    },
    {
      "cell_type": "code",
      "source": [
        "initializer = keras.initializers.GlorotUniform(seed=set_seed)\n",
        "activation =  keras.activations.softmax\n",
        "lr_schedule = keras.optimizers.schedules.ExponentialDecay(\n",
        "            initial_learning_rate=1e-5,\n",
        "            decay_steps=TRAIN_DATA_SIZE // BATCH_SIZE * 10,\n",
        "            decay_rate=0.95)\n",
        "\n",
        "number_of_classes = 6\n",
        "        \n",
        "inputs = keras.Input(shape=(64, 64, 3))\n",
        "conv1 = keras.layers.Conv2D(128,(3, 3), padding='same', activation='relu')(inputs)\n",
        "do1 = keras.layers.Dropout(0.5, seed=set_seed)(conv1)         \n",
        "conv2 = keras.layers.Conv2D(64,(3, 3), padding='same', activation='relu')(do1)\n",
        "do2 = keras.layers.Dropout(0.5, seed=set_seed)(conv2)         \n",
        "conv3 = keras.layers.Conv2D(32,(3, 3), padding='same', activation='relu')(do2)\n",
        "do3 = keras.layers.Dropout(0.5, seed=set_seed)(conv3)       \n",
        "flatten = keras.layers.Flatten()(do3)    \n",
        "outputs = keras.layers.Dense(number_of_classes,\n",
        "                        kernel_initializer=initializer,\n",
        "                        activation=activation)(flatten) \n",
        "clf = keras.Model(inputs, outputs)\n",
        "        \n",
        "clf.summary()"
      ],
      "metadata": {
        "colab": {
          "base_uri": "https://localhost:8080/"
        },
        "id": "D119rUVZr83m",
        "outputId": "e1b6b256-b50e-4d2f-c3f2-cd327db2b00a"
      },
      "execution_count": 199,
      "outputs": [
        {
          "output_type": "stream",
          "name": "stdout",
          "text": [
            "Model: \"model_12\"\n",
            "_________________________________________________________________\n",
            " Layer (type)                Output Shape              Param #   \n",
            "=================================================================\n",
            " input_13 (InputLayer)       [(None, 64, 64, 3)]       0         \n",
            "                                                                 \n",
            " conv2d_41 (Conv2D)          (None, 64, 64, 128)       3584      \n",
            "                                                                 \n",
            " dropout_24 (Dropout)        (None, 64, 64, 128)       0         \n",
            "                                                                 \n",
            " conv2d_42 (Conv2D)          (None, 64, 64, 64)        73792     \n",
            "                                                                 \n",
            " dropout_25 (Dropout)        (None, 64, 64, 64)        0         \n",
            "                                                                 \n",
            " conv2d_43 (Conv2D)          (None, 64, 64, 32)        18464     \n",
            "                                                                 \n",
            " dropout_26 (Dropout)        (None, 64, 64, 32)        0         \n",
            "                                                                 \n",
            " flatten_9 (Flatten)         (None, 131072)            0         \n",
            "                                                                 \n",
            " dense_13 (Dense)            (None, 6)                 786438    \n",
            "                                                                 \n",
            "=================================================================\n",
            "Total params: 882,278\n",
            "Trainable params: 882,278\n",
            "Non-trainable params: 0\n",
            "_________________________________________________________________\n",
            "time: 115 ms (started: 2022-11-23 17:57:47 +00:00)\n"
          ]
        }
      ]
    },
    {
      "cell_type": "code",
      "source": [
        "es_callback = tf.keras.callbacks.EarlyStopping(monitor='val_loss', patience=10,\n",
        "                                                       restore_best_weights=True)\n",
        "        \n",
        "clf.compile(optimizer=keras.optimizers.Adam(learning_rate=lr_schedule),\n",
        "        loss=keras.losses.CategoricalCrossentropy(),\n",
        "        metrics=['accuracy'])\n",
        "        \n",
        "history = clf.fit(train_parsed_image_dataset, steps_per_epoch=TRAIN_DATA_SIZE // BATCH_SIZE,\n",
        "                validation_data=valid_raw_image_dataset,\n",
        "                epochs=100,\n",
        "                class_weight=class_weight_dict,\n",
        "                callbacks=[es_callback]) "
      ],
      "metadata": {
        "colab": {
          "base_uri": "https://localhost:8080/"
        },
        "id": "kuFkXVSyuPzl",
        "outputId": "5e15e3d8-8d3d-4101-9099-320308a339df"
      },
      "execution_count": 200,
      "outputs": [
        {
          "output_type": "stream",
          "name": "stdout",
          "text": [
            "Epoch 1/100\n",
            "160/160 [==============================] - 11s 62ms/step - loss: 25.4124 - accuracy: 0.2280 - val_loss: 14.0510 - val_accuracy: 0.0616\n",
            "Epoch 2/100\n",
            "160/160 [==============================] - 10s 66ms/step - loss: 18.0504 - accuracy: 0.2313 - val_loss: 13.1678 - val_accuracy: 0.0367\n",
            "Epoch 3/100\n",
            "160/160 [==============================] - 11s 66ms/step - loss: 14.2981 - accuracy: 0.2487 - val_loss: 7.1360 - val_accuracy: 0.0538\n",
            "Epoch 4/100\n",
            "160/160 [==============================] - 10s 64ms/step - loss: 11.8359 - accuracy: 0.2565 - val_loss: 4.9004 - val_accuracy: 0.0476\n",
            "Epoch 5/100\n",
            "160/160 [==============================] - 11s 68ms/step - loss: 9.5619 - accuracy: 0.2562 - val_loss: 3.9208 - val_accuracy: 0.0343\n",
            "Epoch 6/100\n",
            "160/160 [==============================] - 10s 64ms/step - loss: 8.2232 - accuracy: 0.2547 - val_loss: 2.4806 - val_accuracy: 0.0897\n",
            "Epoch 7/100\n",
            "160/160 [==============================] - 10s 62ms/step - loss: 6.9386 - accuracy: 0.2537 - val_loss: 2.1719 - val_accuracy: 0.1193\n",
            "Epoch 8/100\n",
            "160/160 [==============================] - 10s 62ms/step - loss: 5.9720 - accuracy: 0.2657 - val_loss: 2.2271 - val_accuracy: 0.1404\n",
            "Epoch 9/100\n",
            "160/160 [==============================] - 11s 67ms/step - loss: 5.1838 - accuracy: 0.2729 - val_loss: 2.2298 - val_accuracy: 0.1154\n",
            "Epoch 10/100\n",
            "160/160 [==============================] - 10s 61ms/step - loss: 4.4378 - accuracy: 0.2643 - val_loss: 2.0925 - val_accuracy: 0.1583\n",
            "Epoch 11/100\n",
            "160/160 [==============================] - 10s 61ms/step - loss: 3.8650 - accuracy: 0.2723 - val_loss: 2.0157 - val_accuracy: 0.1732\n",
            "Epoch 12/100\n",
            "160/160 [==============================] - 10s 61ms/step - loss: 3.4533 - accuracy: 0.2707 - val_loss: 1.9373 - val_accuracy: 0.1802\n",
            "Epoch 13/100\n",
            "160/160 [==============================] - 10s 61ms/step - loss: 3.0637 - accuracy: 0.2865 - val_loss: 1.9415 - val_accuracy: 0.1739\n",
            "Epoch 14/100\n",
            "160/160 [==============================] - 10s 63ms/step - loss: 2.7745 - accuracy: 0.2701 - val_loss: 1.9106 - val_accuracy: 0.1771\n",
            "Epoch 15/100\n",
            "160/160 [==============================] - 11s 66ms/step - loss: 2.4570 - accuracy: 0.2824 - val_loss: 1.8752 - val_accuracy: 0.1786\n",
            "Epoch 16/100\n",
            "160/160 [==============================] - 10s 63ms/step - loss: 2.3613 - accuracy: 0.2842 - val_loss: 1.8592 - val_accuracy: 0.1716\n",
            "Epoch 17/100\n",
            "160/160 [==============================] - 10s 63ms/step - loss: 2.0603 - accuracy: 0.2883 - val_loss: 1.8500 - val_accuracy: 0.1700\n",
            "Epoch 18/100\n",
            "160/160 [==============================] - 10s 63ms/step - loss: 1.9372 - accuracy: 0.2890 - val_loss: 1.8392 - val_accuracy: 0.1693\n",
            "Epoch 19/100\n",
            "160/160 [==============================] - 10s 64ms/step - loss: 1.8283 - accuracy: 0.2797 - val_loss: 1.8296 - val_accuracy: 0.1755\n",
            "Epoch 20/100\n",
            "160/160 [==============================] - 10s 63ms/step - loss: 1.6373 - accuracy: 0.2904 - val_loss: 1.8117 - val_accuracy: 0.1685\n",
            "Epoch 21/100\n",
            "160/160 [==============================] - 10s 63ms/step - loss: 1.5887 - accuracy: 0.2987 - val_loss: 1.8159 - val_accuracy: 0.1490\n",
            "Epoch 22/100\n",
            "160/160 [==============================] - 11s 67ms/step - loss: 1.5052 - accuracy: 0.2989 - val_loss: 1.8144 - val_accuracy: 0.1459\n",
            "Epoch 23/100\n",
            "160/160 [==============================] - 10s 62ms/step - loss: 1.4450 - accuracy: 0.3062 - val_loss: 1.8054 - val_accuracy: 0.1654\n",
            "Epoch 24/100\n",
            "160/160 [==============================] - 10s 62ms/step - loss: 1.3841 - accuracy: 0.3159 - val_loss: 1.8091 - val_accuracy: 0.1646\n",
            "Epoch 25/100\n",
            "160/160 [==============================] - 11s 66ms/step - loss: 1.3874 - accuracy: 0.3058 - val_loss: 1.8061 - val_accuracy: 0.1786\n",
            "Epoch 26/100\n",
            "160/160 [==============================] - 10s 63ms/step - loss: 1.2786 - accuracy: 0.3265 - val_loss: 1.8036 - val_accuracy: 0.1810\n",
            "Epoch 27/100\n",
            "160/160 [==============================] - 10s 64ms/step - loss: 1.3171 - accuracy: 0.3105 - val_loss: 1.8020 - val_accuracy: 0.1599\n",
            "Epoch 28/100\n",
            "160/160 [==============================] - 11s 66ms/step - loss: 1.2409 - accuracy: 0.3144 - val_loss: 1.7975 - val_accuracy: 0.1622\n",
            "Epoch 29/100\n",
            "160/160 [==============================] - 10s 63ms/step - loss: 1.2142 - accuracy: 0.3207 - val_loss: 1.7965 - val_accuracy: 0.1622\n",
            "Epoch 30/100\n",
            "160/160 [==============================] - 10s 61ms/step - loss: 1.1909 - accuracy: 0.3251 - val_loss: 1.7932 - val_accuracy: 0.1568\n",
            "Epoch 31/100\n",
            "160/160 [==============================] - 10s 61ms/step - loss: 1.1450 - accuracy: 0.3308 - val_loss: 1.7872 - val_accuracy: 0.1700\n",
            "Epoch 32/100\n",
            "160/160 [==============================] - 10s 61ms/step - loss: 1.1519 - accuracy: 0.3359 - val_loss: 1.7839 - val_accuracy: 0.1708\n",
            "Epoch 33/100\n",
            "160/160 [==============================] - 10s 63ms/step - loss: 1.1421 - accuracy: 0.3337 - val_loss: 1.7830 - val_accuracy: 0.1755\n",
            "Epoch 34/100\n",
            "160/160 [==============================] - 10s 64ms/step - loss: 1.1317 - accuracy: 0.3536 - val_loss: 1.7871 - val_accuracy: 0.1708\n",
            "Epoch 35/100\n",
            "160/160 [==============================] - 10s 61ms/step - loss: 1.0773 - accuracy: 0.3569 - val_loss: 1.7849 - val_accuracy: 0.1661\n",
            "Epoch 36/100\n",
            "160/160 [==============================] - 10s 61ms/step - loss: 1.0810 - accuracy: 0.3426 - val_loss: 1.7813 - val_accuracy: 0.1732\n",
            "Epoch 37/100\n",
            "160/160 [==============================] - 10s 63ms/step - loss: 1.0469 - accuracy: 0.3564 - val_loss: 1.7792 - val_accuracy: 0.1794\n",
            "Epoch 38/100\n",
            "160/160 [==============================] - 10s 63ms/step - loss: 1.0624 - accuracy: 0.3612 - val_loss: 1.7783 - val_accuracy: 0.1778\n",
            "Epoch 39/100\n",
            "160/160 [==============================] - 10s 63ms/step - loss: 1.0415 - accuracy: 0.3755 - val_loss: 1.7776 - val_accuracy: 0.1708\n",
            "Epoch 40/100\n",
            "160/160 [==============================] - 10s 66ms/step - loss: 1.0323 - accuracy: 0.3758 - val_loss: 1.7777 - val_accuracy: 0.1732\n",
            "Epoch 41/100\n",
            "160/160 [==============================] - 10s 63ms/step - loss: 0.9934 - accuracy: 0.3905 - val_loss: 1.7747 - val_accuracy: 0.1771\n",
            "Epoch 42/100\n",
            "160/160 [==============================] - 10s 63ms/step - loss: 1.0155 - accuracy: 0.3890 - val_loss: 1.7742 - val_accuracy: 0.1763\n",
            "Epoch 43/100\n",
            "160/160 [==============================] - 10s 63ms/step - loss: 1.0119 - accuracy: 0.3922 - val_loss: 1.7696 - val_accuracy: 0.1841\n",
            "Epoch 44/100\n",
            "160/160 [==============================] - 10s 61ms/step - loss: 0.9887 - accuracy: 0.3973 - val_loss: 1.7704 - val_accuracy: 0.1825\n",
            "Epoch 45/100\n",
            "160/160 [==============================] - 10s 65ms/step - loss: 0.9951 - accuracy: 0.3937 - val_loss: 1.7686 - val_accuracy: 0.1825\n",
            "Epoch 46/100\n",
            "160/160 [==============================] - 10s 63ms/step - loss: 0.9741 - accuracy: 0.4047 - val_loss: 1.7677 - val_accuracy: 0.1841\n",
            "Epoch 47/100\n",
            "160/160 [==============================] - 11s 66ms/step - loss: 0.9625 - accuracy: 0.4044 - val_loss: 1.7630 - val_accuracy: 0.1888\n",
            "Epoch 48/100\n",
            "160/160 [==============================] - 10s 61ms/step - loss: 0.9364 - accuracy: 0.4207 - val_loss: 1.7544 - val_accuracy: 0.2051\n",
            "Epoch 49/100\n",
            "160/160 [==============================] - 10s 63ms/step - loss: 0.9436 - accuracy: 0.4271 - val_loss: 1.7523 - val_accuracy: 0.2036\n",
            "Epoch 50/100\n",
            "160/160 [==============================] - 10s 63ms/step - loss: 0.9291 - accuracy: 0.4293 - val_loss: 1.7472 - val_accuracy: 0.2106\n",
            "Epoch 51/100\n",
            "160/160 [==============================] - 11s 67ms/step - loss: 0.9168 - accuracy: 0.4283 - val_loss: 1.7445 - val_accuracy: 0.2083\n",
            "Epoch 52/100\n",
            "160/160 [==============================] - 10s 63ms/step - loss: 0.9179 - accuracy: 0.4317 - val_loss: 1.7363 - val_accuracy: 0.2192\n",
            "Epoch 53/100\n",
            "160/160 [==============================] - 10s 61ms/step - loss: 0.9041 - accuracy: 0.4494 - val_loss: 1.7332 - val_accuracy: 0.2114\n",
            "Epoch 54/100\n",
            "160/160 [==============================] - 10s 61ms/step - loss: 0.8695 - accuracy: 0.4558 - val_loss: 1.7309 - val_accuracy: 0.2215\n",
            "Epoch 55/100\n",
            "160/160 [==============================] - 10s 63ms/step - loss: 0.8888 - accuracy: 0.4517 - val_loss: 1.7231 - val_accuracy: 0.2262\n",
            "Epoch 56/100\n",
            "160/160 [==============================] - 10s 64ms/step - loss: 0.8520 - accuracy: 0.4619 - val_loss: 1.7235 - val_accuracy: 0.2239\n",
            "Epoch 57/100\n",
            "160/160 [==============================] - 10s 62ms/step - loss: 0.8290 - accuracy: 0.4692 - val_loss: 1.7037 - val_accuracy: 0.2465\n",
            "Epoch 58/100\n",
            "160/160 [==============================] - 10s 63ms/step - loss: 0.8247 - accuracy: 0.4719 - val_loss: 1.6949 - val_accuracy: 0.2566\n",
            "Epoch 59/100\n",
            "160/160 [==============================] - 10s 61ms/step - loss: 0.8406 - accuracy: 0.4620 - val_loss: 1.6837 - val_accuracy: 0.2566\n",
            "Epoch 60/100\n",
            "160/160 [==============================] - 10s 63ms/step - loss: 0.8016 - accuracy: 0.4865 - val_loss: 1.6790 - val_accuracy: 0.2605\n",
            "Epoch 61/100\n",
            "160/160 [==============================] - 10s 63ms/step - loss: 0.8019 - accuracy: 0.4860 - val_loss: 1.6611 - val_accuracy: 0.2832\n",
            "Epoch 62/100\n",
            "160/160 [==============================] - 10s 65ms/step - loss: 0.7759 - accuracy: 0.4918 - val_loss: 1.6456 - val_accuracy: 0.2816\n",
            "Epoch 63/100\n",
            "160/160 [==============================] - 10s 63ms/step - loss: 0.7833 - accuracy: 0.4994 - val_loss: 1.6291 - val_accuracy: 0.3058\n",
            "Epoch 64/100\n",
            "160/160 [==============================] - 10s 61ms/step - loss: 0.7496 - accuracy: 0.5088 - val_loss: 1.6060 - val_accuracy: 0.3214\n",
            "Epoch 65/100\n",
            "160/160 [==============================] - 10s 61ms/step - loss: 0.7514 - accuracy: 0.5058 - val_loss: 1.5931 - val_accuracy: 0.3339\n",
            "Epoch 66/100\n",
            "160/160 [==============================] - 10s 63ms/step - loss: 0.7296 - accuracy: 0.5267 - val_loss: 1.5714 - val_accuracy: 0.3385\n",
            "Epoch 67/100\n",
            "160/160 [==============================] - 10s 61ms/step - loss: 0.7608 - accuracy: 0.5172 - val_loss: 1.5767 - val_accuracy: 0.3401\n",
            "Epoch 68/100\n",
            "160/160 [==============================] - 11s 67ms/step - loss: 0.7070 - accuracy: 0.5375 - val_loss: 1.5426 - val_accuracy: 0.3604\n",
            "Epoch 69/100\n",
            "160/160 [==============================] - 10s 65ms/step - loss: 0.7088 - accuracy: 0.5305 - val_loss: 1.5150 - val_accuracy: 0.3791\n",
            "Epoch 70/100\n",
            "160/160 [==============================] - 10s 61ms/step - loss: 0.7028 - accuracy: 0.5355 - val_loss: 1.4761 - val_accuracy: 0.4056\n",
            "Epoch 71/100\n",
            "160/160 [==============================] - 10s 63ms/step - loss: 0.6681 - accuracy: 0.5530 - val_loss: 1.4625 - val_accuracy: 0.4189\n",
            "Epoch 72/100\n",
            "160/160 [==============================] - 10s 61ms/step - loss: 0.6859 - accuracy: 0.5489 - val_loss: 1.4437 - val_accuracy: 0.4259\n",
            "Epoch 73/100\n",
            "160/160 [==============================] - 10s 61ms/step - loss: 0.6534 - accuracy: 0.5573 - val_loss: 1.4342 - val_accuracy: 0.4353\n",
            "Epoch 74/100\n",
            "160/160 [==============================] - 10s 63ms/step - loss: 0.6682 - accuracy: 0.5601 - val_loss: 1.4026 - val_accuracy: 0.4524\n",
            "Epoch 75/100\n",
            "160/160 [==============================] - 10s 63ms/step - loss: 0.6560 - accuracy: 0.5640 - val_loss: 1.3813 - val_accuracy: 0.4532\n",
            "Epoch 76/100\n",
            "160/160 [==============================] - 10s 63ms/step - loss: 0.6346 - accuracy: 0.5662 - val_loss: 1.3721 - val_accuracy: 0.4626\n",
            "Epoch 77/100\n",
            "160/160 [==============================] - 10s 61ms/step - loss: 0.6115 - accuracy: 0.5725 - val_loss: 1.3257 - val_accuracy: 0.4899\n",
            "Epoch 78/100\n",
            "160/160 [==============================] - 10s 63ms/step - loss: 0.6185 - accuracy: 0.5811 - val_loss: 1.2984 - val_accuracy: 0.5016\n",
            "Epoch 79/100\n",
            "160/160 [==============================] - 11s 66ms/step - loss: 0.6180 - accuracy: 0.5867 - val_loss: 1.2938 - val_accuracy: 0.5031\n",
            "Epoch 80/100\n",
            "160/160 [==============================] - 10s 63ms/step - loss: 0.5980 - accuracy: 0.5905 - val_loss: 1.2798 - val_accuracy: 0.5140\n",
            "Epoch 81/100\n",
            "160/160 [==============================] - 10s 63ms/step - loss: 0.5906 - accuracy: 0.5941 - val_loss: 1.2639 - val_accuracy: 0.5226\n",
            "Epoch 82/100\n",
            "160/160 [==============================] - 10s 63ms/step - loss: 0.5870 - accuracy: 0.6013 - val_loss: 1.2332 - val_accuracy: 0.5374\n",
            "Epoch 83/100\n",
            "160/160 [==============================] - 10s 61ms/step - loss: 0.5602 - accuracy: 0.5998 - val_loss: 1.1786 - val_accuracy: 0.5624\n",
            "Epoch 84/100\n",
            "160/160 [==============================] - 10s 61ms/step - loss: 0.5489 - accuracy: 0.6111 - val_loss: 1.1752 - val_accuracy: 0.5647\n",
            "Epoch 85/100\n",
            "160/160 [==============================] - 11s 66ms/step - loss: 0.5678 - accuracy: 0.6071 - val_loss: 1.1722 - val_accuracy: 0.5632\n",
            "Epoch 86/100\n",
            "160/160 [==============================] - 10s 61ms/step - loss: 0.5407 - accuracy: 0.6179 - val_loss: 1.1323 - val_accuracy: 0.5741\n",
            "Epoch 87/100\n",
            "160/160 [==============================] - 10s 61ms/step - loss: 0.5513 - accuracy: 0.6144 - val_loss: 1.1406 - val_accuracy: 0.5749\n",
            "Epoch 88/100\n",
            "160/160 [==============================] - 10s 61ms/step - loss: 0.5271 - accuracy: 0.6238 - val_loss: 1.1427 - val_accuracy: 0.5741\n",
            "Epoch 89/100\n",
            "160/160 [==============================] - 10s 61ms/step - loss: 0.5223 - accuracy: 0.6211 - val_loss: 1.0867 - val_accuracy: 0.6061\n",
            "Epoch 90/100\n",
            "160/160 [==============================] - 10s 61ms/step - loss: 0.5342 - accuracy: 0.6262 - val_loss: 1.0927 - val_accuracy: 0.5983\n",
            "Epoch 91/100\n",
            "160/160 [==============================] - 11s 66ms/step - loss: 0.5109 - accuracy: 0.6343 - val_loss: 1.0808 - val_accuracy: 0.5944\n",
            "Epoch 92/100\n",
            "160/160 [==============================] - 10s 61ms/step - loss: 0.4996 - accuracy: 0.6338 - val_loss: 1.0559 - val_accuracy: 0.6131\n",
            "Epoch 93/100\n",
            "160/160 [==============================] - 10s 63ms/step - loss: 0.4891 - accuracy: 0.6440 - val_loss: 1.0602 - val_accuracy: 0.6084\n",
            "Epoch 94/100\n",
            "160/160 [==============================] - 10s 61ms/step - loss: 0.4938 - accuracy: 0.6382 - val_loss: 1.0328 - val_accuracy: 0.6170\n",
            "Epoch 95/100\n",
            "160/160 [==============================] - 10s 63ms/step - loss: 0.4934 - accuracy: 0.6491 - val_loss: 1.0254 - val_accuracy: 0.6178\n",
            "Epoch 96/100\n",
            "160/160 [==============================] - 10s 63ms/step - loss: 0.4875 - accuracy: 0.6494 - val_loss: 1.0385 - val_accuracy: 0.6139\n",
            "Epoch 97/100\n",
            "160/160 [==============================] - 10s 64ms/step - loss: 0.4629 - accuracy: 0.6489 - val_loss: 0.9758 - val_accuracy: 0.6412\n",
            "Epoch 98/100\n",
            "160/160 [==============================] - 10s 63ms/step - loss: 0.4725 - accuracy: 0.6553 - val_loss: 0.9787 - val_accuracy: 0.6466\n",
            "Epoch 99/100\n",
            "160/160 [==============================] - 10s 63ms/step - loss: 0.4675 - accuracy: 0.6514 - val_loss: 0.9724 - val_accuracy: 0.6513\n",
            "Epoch 100/100\n",
            "160/160 [==============================] - 10s 63ms/step - loss: 0.4640 - accuracy: 0.6563 - val_loss: 0.9871 - val_accuracy: 0.6365\n",
            "time: 16min 50s (started: 2022-11-23 17:57:54 +00:00)\n"
          ]
        }
      ]
    },
    {
      "cell_type": "code",
      "source": [
        "# 정확도 history\n",
        "\n",
        "plt.plot(history.history['accuracy'])\n",
        "plt.plot(history.history['val_accuracy'])\n",
        "plt.title('model accuracy')\n",
        "plt.ylabel('accuracy')\n",
        "plt.xlabel('epoch')\n",
        "plt.legend(['train', 'valid'], loc='upper left')\n",
        "plt.show()"
      ],
      "metadata": {
        "colab": {
          "base_uri": "https://localhost:8080/",
          "height": 313
        },
        "id": "p2N7D3G9QG7g",
        "outputId": "640e802d-23fb-49d7-c0cb-cd3d96f479a5"
      },
      "execution_count": 203,
      "outputs": [
        {
          "output_type": "display_data",
          "data": {
            "text/plain": [
              "<Figure size 432x288 with 1 Axes>"
            ],
            "image/png": "[encoded data removed]"
          },
          "metadata": {
            "needs_background": "light"
          }
        },
        {
          "output_type": "stream",
          "name": "stdout",
          "text": [
            "time: 128 ms (started: 2022-11-23 18:19:14 +00:00)\n"
          ]
        }
      ]
    },
    {
      "cell_type": "code",
      "source": [
        "# 손실 history\n",
        "\n",
        "plt.plot(history.history['loss'])\n",
        "plt.plot(history.history['val_loss'])\n",
        "plt.title('model loss')\n",
        "plt.ylabel('loss')\n",
        "plt.xlabel('epoch')\n",
        "plt.legend(['train', 'val'], loc='upper right')\n",
        "plt.show()"
      ],
      "metadata": {
        "colab": {
          "base_uri": "https://localhost:8080/",
          "height": 313
        },
        "id": "iub2Vb-Lty2i",
        "outputId": "802f5483-9fc3-4174-a30a-715c2a4cfcd8"
      },
      "execution_count": 204,
      "outputs": [
        {
          "output_type": "display_data",
          "data": {
            "text/plain": [
              "<Figure size 432x288 with 1 Axes>"
            ],
            "image/png": "[encoded data removed]"
          },
          "metadata": {
            "needs_background": "light"
          }
        },
        {
          "output_type": "stream",
          "name": "stdout",
          "text": [
            "time: 124 ms (started: 2022-11-23 18:19:29 +00:00)\n"
          ]
        }
      ]
    },
    {
      "cell_type": "markdown",
      "source": [],
      "metadata": {
        "id": "s1rJPwNKUGq5"
      }
    },
    {
      "cell_type": "markdown",
      "source": [
        "## 9. test dataset 정의"
      ],
      "metadata": {
        "id": "GJJUpMJOuBZM"
      }
    },
    {
      "cell_type": "code",
      "source": [
        "def deserialize_for_test(serialized_dataset):\n",
        "\n",
        "    image_feature_description = {\n",
        "        'label': tf.io.FixedLenFeature([6], tf.int64),  \n",
        "        'image_raw': tf.io.FixedLenFeature([], tf.string),\n",
        "    }\n",
        "\n",
        "    target_record = tf.io.parse_single_example(serialized_dataset, image_feature_description)\n",
        "\n",
        "    image = target_record['image_raw']\n",
        "    image = tf.image.decode_jpeg(image, channels=3)\n",
        "    image = tf.cast(image, tf.float32)\n",
        "\n",
        "    return image\n",
        "\n",
        "test_data_path = '/content/drive/MyDrive/OpenSourceAI_Team17/dataset/tfrecords/6_basic_emo_test.tfrecords'\n",
        "\n",
        "test_raw_image_dataset = tf.data.TFRecordDataset(test_data_path)\n",
        "\n",
        "test_raw_image_dataset = test_raw_image_dataset.map(deserialize_for_test, num_parallel_calls=tf.data.experimental.AUTOTUNE)\n",
        "test_raw_image_dataset = test_raw_image_dataset.batch(1)"
      ],
      "metadata": {
        "colab": {
          "base_uri": "https://localhost:8080/"
        },
        "id": "BqcqRpUkuIc2",
        "outputId": "fffd7f7a-2413-4585-e09c-0183c48f7548"
      },
      "execution_count": 215,
      "outputs": [
        {
          "output_type": "stream",
          "name": "stdout",
          "text": [
            "time: 80.4 ms (started: 2022-11-23 18:30:37 +00:00)\n"
          ]
        }
      ]
    },
    {
      "cell_type": "markdown",
      "source": [
        "## 10. 모델 테스트"
      ],
      "metadata": {
        "id": "LLew3swAubsi"
      }
    },
    {
      "cell_type": "code",
      "source": [
        "print(test_raw_image_dataset)\n",
        "loss, acc = clf.evaluate(test_raw_image_dataset, steps=TEST_DATA_SIZE)\n",
        "print(\"Test accuracy:\", acc)\n",
        "predictions = clf.predict(test_raw_image_dataset.take(5))\n",
        "print(\"A test output from the last layer:\", predictions[0])\n",
        "print(\"Index of the maximum value:\", np.argmax(predictions[0]))\n",
        "print(\"Label:\", LABELS[np.argmax(predictions[0])])"
      ],
      "metadata": {
        "colab": {
          "base_uri": "https://localhost:8080/"
        },
        "id": "fnuHMCM4uZzo",
        "outputId": "0ff3ef99-8074-4e18-e997-62084c60907e"
      },
      "execution_count": 216,
      "outputs": [
        {
          "output_type": "stream",
          "name": "stdout",
          "text": [
            "<BatchDataset element_spec=TensorSpec(shape=(None, None, None, 3), dtype=tf.float32, name=None)>\n",
            "1282/1282 [==============================] - 2s 2ms/step - loss: 0.0000e+00 - accuracy: 0.0000e+00\n",
            "Test accuracy: 0.0\n",
            "5/5 [==============================] - 0s 8ms/step\n",
            "A test output from the last layer: [0.41283104 0.32094097 0.07896024 0.04749989 0.04690055 0.09286731]\n",
            "Index of the maximum value: 0\n",
            "Label: angry\n",
            "time: 2.88 s (started: 2022-11-23 18:30:39 +00:00)\n"
          ]
        }
      ]
    },
    {
      "cell_type": "code",
      "source": [
        "predictions"
      ],
      "metadata": {
        "colab": {
          "base_uri": "https://localhost:8080/"
        },
        "id": "rWBHuMspwnsR",
        "outputId": "68ea6ca6-6b77-4453-8466-b443e33aff83"
      },
      "execution_count": 217,
      "outputs": [
        {
          "output_type": "execute_result",
          "data": {
            "text/plain": [
              "array([[4.1283104e-01, 3.2094097e-01, 7.8960240e-02, 4.7499888e-02,\n",
              "        4.6900552e-02, 9.2867307e-02],\n",
              "       [3.5738257e-01, 2.0554128e-01, 5.3236485e-02, 6.1174788e-02,\n",
              "        3.5107143e-02, 2.8755772e-01],\n",
              "       [2.4969260e-01, 2.3280008e-01, 7.3567294e-02, 2.5780329e-02,\n",
              "        2.5671044e-01, 1.6144922e-01],\n",
              "       [8.4123814e-01, 5.3252163e-04, 8.1515901e-02, 1.2421666e-02,\n",
              "        1.2668310e-02, 5.1623438e-02],\n",
              "       [9.3597704e-01, 3.9848808e-04, 3.4242116e-02, 1.4042165e-03,\n",
              "        1.6604738e-05, 2.7961625e-02]], dtype=float32)"
            ]
          },
          "metadata": {},
          "execution_count": 217
        },
        {
          "output_type": "stream",
          "name": "stdout",
          "text": [
            "time: 11.9 ms (started: 2022-11-23 18:31:38 +00:00)\n"
          ]
        }
      ]
    },
    {
      "cell_type": "code",
      "source": [
        "# 테스트했던 이미지 출력\n",
        "\n",
        "data, = test_parsed_image_dataset.take(1)\n",
        "plt.imshow(data[0][0])"
      ],
      "metadata": {
        "colab": {
          "base_uri": "https://localhost:8080/",
          "height": 305
        },
        "id": "dFI6BifswrWh",
        "outputId": "210cbd9d-f02a-4f82-8356-043e009517b0"
      },
      "execution_count": 229,
      "outputs": [
        {
          "output_type": "execute_result",
          "data": {
            "text/plain": [
              "<matplotlib.image.AxesImage at 0x7f7a26ce6ad0>"
            ]
          },
          "metadata": {},
          "execution_count": 229
        },
        {
          "output_type": "display_data",
          "data": {
            "text/plain": [
              "<Figure size 432x288 with 1 Axes>"
            ],
            "image/png": "[encoded data removed]"
          },
          "metadata": {
            "needs_background": "light"
          }
        },
        {
          "output_type": "stream",
          "name": "stdout",
          "text": [
            "time: 339 ms (started: 2022-11-23 18:38:47 +00:00)\n"
          ]
        }
      ]
    }
  ]
}